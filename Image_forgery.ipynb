{
  "nbformat": 4,
  "nbformat_minor": 0,
  "metadata": {
    "colab": {
      "name": "Image_forgery.ipynb",
      "provenance": []
    },
    "kernelspec": {
      "name": "python3",
      "display_name": "Python 3"
    },
    "accelerator": "GPU"
  },
  "cells": [
    {
      "cell_type": "code",
      "metadata": {
        "id": "77OSY_r2nuJY",
        "colab_type": "code",
        "colab": {}
      },
      "source": [
        "\n",
        "\n",
        "!apt-get install -y -qq software-properties-common python-software-properties module-init-tools\n",
        "!add-apt-repository -y ppa:alessandro-strada/ppa 2>&1 > /dev/null\n",
        "!apt-get update -qq 2>&1 > /dev/null\n",
        "!apt-get -y install -qq google-drive-ocamlfuse fuse\n",
        "from google.colab import auth\n",
        "auth.authenticate_user()\n",
        "from oauth2client.client import GoogleCredentials\n",
        "creds = GoogleCredentials.get_application_default()\n",
        "import getpass\n",
        "!google-drive-ocamlfuse -headless -id={creds.client_id} -secret={creds.client_secret} < /dev/null 2>&1 | grep URL\n",
        "vcode = getpass.getpass()\n",
        "!echo {vcode} | google-drive-ocamlfuse -headless -id={creds.client_id} -secret={creds.client_secret}\n",
        "\n",
        "!mkdir -p drive\n",
        "!google-drive-ocamlfuse drive\n",
        "\n",
        "!ls drive\n",
        "\n"
      ],
      "execution_count": 0,
      "outputs": []
    },
    {
      "cell_type": "code",
      "metadata": {
        "id": "7XxUYtWEFmH4",
        "colab_type": "code",
        "outputId": "09e3a2fe-2e66-4254-c372-6b6c3925dbc8",
        "colab": {
          "base_uri": "https://localhost:8080/",
          "height": 34
        }
      },
      "source": [
        "\n",
        "\n",
        "%matplotlib inline\n",
        "import keras \n",
        "import numpy as np \n",
        "from keras.applications.vgg16 import VGG16\n",
        "from keras.preprocessing.image import load_img\n",
        "from keras.callbacks import ModelCheckpoint\n",
        "import matplotlib.pyplot as plt\n",
        "import itertools\n",
        "from keras.models import Sequential\n",
        "from keras.optimizers import Adam\n",
        "from keras.preprocessing.image import ImageDataGenerator\n",
        "import tensorflow as tf\n",
        "from keras.layers import Dense, Flatten, Dropout\n",
        "from tensorflow.python.client import device_lib\n",
        "# keras library import  for Saving and loading model and weights\n",
        "from keras.models import model_from_json\n",
        "from keras.models import load_model\n",
        "from sklearn.metrics import confusion_matrix\n",
        "# import cv2\n",
        "\n"
      ],
      "execution_count": 5,
      "outputs": [
        {
          "output_type": "stream",
          "text": [
            "Using TensorFlow backend.\n"
          ],
          "name": "stderr"
        }
      ]
    },
    {
      "cell_type": "code",
      "metadata": {
        "id": "DhU8NwLpFrlM",
        "colab_type": "code",
        "outputId": "30d96f51-8e59-4f16-fb0b-6befb66fdc7a",
        "colab": {
          "base_uri": "https://localhost:8080/",
          "height": 52
        }
      },
      "source": [
        "model = VGG16()"
      ],
      "execution_count": 6,
      "outputs": [
        {
          "output_type": "stream",
          "text": [
            "Downloading data from https://github.com/fchollet/deep-learning-models/releases/download/v0.1/vgg16_weights_tf_dim_ordering_tf_kernels.h5\n",
            "553467904/553467096 [==============================] - 13s 0us/step\n"
          ],
          "name": "stdout"
        }
      ]
    },
    {
      "cell_type": "code",
      "metadata": {
        "id": "MtwgW94sGJto",
        "colab_type": "code",
        "outputId": "8e05032b-ee5a-4304-f412-2f3b5d164084",
        "colab": {
          "base_uri": "https://localhost:8080/",
          "height": 955
        }
      },
      "source": [
        "\n",
        "\n",
        "model.summary()"
      ],
      "execution_count": 7,
      "outputs": [
        {
          "output_type": "stream",
          "text": [
            "Model: \"vgg16\"\n",
            "_________________________________________________________________\n",
            "Layer (type)                 Output Shape              Param #   \n",
            "=================================================================\n",
            "input_1 (InputLayer)         (None, 224, 224, 3)       0         \n",
            "_________________________________________________________________\n",
            "block1_conv1 (Conv2D)        (None, 224, 224, 64)      1792      \n",
            "_________________________________________________________________\n",
            "block1_conv2 (Conv2D)        (None, 224, 224, 64)      36928     \n",
            "_________________________________________________________________\n",
            "block1_pool (MaxPooling2D)   (None, 112, 112, 64)      0         \n",
            "_________________________________________________________________\n",
            "block2_conv1 (Conv2D)        (None, 112, 112, 128)     73856     \n",
            "_________________________________________________________________\n",
            "block2_conv2 (Conv2D)        (None, 112, 112, 128)     147584    \n",
            "_________________________________________________________________\n",
            "block2_pool (MaxPooling2D)   (None, 56, 56, 128)       0         \n",
            "_________________________________________________________________\n",
            "block3_conv1 (Conv2D)        (None, 56, 56, 256)       295168    \n",
            "_________________________________________________________________\n",
            "block3_conv2 (Conv2D)        (None, 56, 56, 256)       590080    \n",
            "_________________________________________________________________\n",
            "block3_conv3 (Conv2D)        (None, 56, 56, 256)       590080    \n",
            "_________________________________________________________________\n",
            "block3_pool (MaxPooling2D)   (None, 28, 28, 256)       0         \n",
            "_________________________________________________________________\n",
            "block4_conv1 (Conv2D)        (None, 28, 28, 512)       1180160   \n",
            "_________________________________________________________________\n",
            "block4_conv2 (Conv2D)        (None, 28, 28, 512)       2359808   \n",
            "_________________________________________________________________\n",
            "block4_conv3 (Conv2D)        (None, 28, 28, 512)       2359808   \n",
            "_________________________________________________________________\n",
            "block4_pool (MaxPooling2D)   (None, 14, 14, 512)       0         \n",
            "_________________________________________________________________\n",
            "block5_conv1 (Conv2D)        (None, 14, 14, 512)       2359808   \n",
            "_________________________________________________________________\n",
            "block5_conv2 (Conv2D)        (None, 14, 14, 512)       2359808   \n",
            "_________________________________________________________________\n",
            "block5_conv3 (Conv2D)        (None, 14, 14, 512)       2359808   \n",
            "_________________________________________________________________\n",
            "block5_pool (MaxPooling2D)   (None, 7, 7, 512)         0         \n",
            "_________________________________________________________________\n",
            "flatten (Flatten)            (None, 25088)             0         \n",
            "_________________________________________________________________\n",
            "fc1 (Dense)                  (None, 4096)              102764544 \n",
            "_________________________________________________________________\n",
            "fc2 (Dense)                  (None, 4096)              16781312  \n",
            "_________________________________________________________________\n",
            "predictions (Dense)          (None, 1000)              4097000   \n",
            "=================================================================\n",
            "Total params: 138,357,544\n",
            "Trainable params: 138,357,544\n",
            "Non-trainable params: 0\n",
            "_________________________________________________________________\n"
          ],
          "name": "stdout"
        }
      ]
    },
    {
      "cell_type": "code",
      "metadata": {
        "id": "vYEdDyJTEQkP",
        "colab_type": "code",
        "outputId": "2f887338-a118-402c-e23f-44dc05013971",
        "colab": {
          "base_uri": "https://localhost:8080/",
          "height": 34
        }
      },
      "source": [
        "type(model)"
      ],
      "execution_count": 8,
      "outputs": [
        {
          "output_type": "execute_result",
          "data": {
            "text/plain": [
              "keras.engine.training.Model"
            ]
          },
          "metadata": {
            "tags": []
          },
          "execution_count": 8
        }
      ]
    },
    {
      "cell_type": "code",
      "metadata": {
        "id": "OzpPX3O5GbLo",
        "colab_type": "code",
        "colab": {}
      },
      "source": [
        "\n",
        "\n",
        "newModel = Sequential()\n",
        "\n",
        "for layer in model.layers:\n",
        "  newModel.add(layer)\n",
        "\n"
      ],
      "execution_count": 0,
      "outputs": []
    },
    {
      "cell_type": "code",
      "metadata": {
        "id": "HQz0J04rGfaY",
        "colab_type": "code",
        "outputId": "c87fd488-fd47-439f-954d-a94503e90b09",
        "colab": {
          "base_uri": "https://localhost:8080/",
          "height": 920
        }
      },
      "source": [
        "newModel.summary()"
      ],
      "execution_count": 10,
      "outputs": [
        {
          "output_type": "stream",
          "text": [
            "Model: \"sequential_1\"\n",
            "_________________________________________________________________\n",
            "Layer (type)                 Output Shape              Param #   \n",
            "=================================================================\n",
            "block1_conv1 (Conv2D)        (None, 224, 224, 64)      1792      \n",
            "_________________________________________________________________\n",
            "block1_conv2 (Conv2D)        (None, 224, 224, 64)      36928     \n",
            "_________________________________________________________________\n",
            "block1_pool (MaxPooling2D)   (None, 112, 112, 64)      0         \n",
            "_________________________________________________________________\n",
            "block2_conv1 (Conv2D)        (None, 112, 112, 128)     73856     \n",
            "_________________________________________________________________\n",
            "block2_conv2 (Conv2D)        (None, 112, 112, 128)     147584    \n",
            "_________________________________________________________________\n",
            "block2_pool (MaxPooling2D)   (None, 56, 56, 128)       0         \n",
            "_________________________________________________________________\n",
            "block3_conv1 (Conv2D)        (None, 56, 56, 256)       295168    \n",
            "_________________________________________________________________\n",
            "block3_conv2 (Conv2D)        (None, 56, 56, 256)       590080    \n",
            "_________________________________________________________________\n",
            "block3_conv3 (Conv2D)        (None, 56, 56, 256)       590080    \n",
            "_________________________________________________________________\n",
            "block3_pool (MaxPooling2D)   (None, 28, 28, 256)       0         \n",
            "_________________________________________________________________\n",
            "block4_conv1 (Conv2D)        (None, 28, 28, 512)       1180160   \n",
            "_________________________________________________________________\n",
            "block4_conv2 (Conv2D)        (None, 28, 28, 512)       2359808   \n",
            "_________________________________________________________________\n",
            "block4_conv3 (Conv2D)        (None, 28, 28, 512)       2359808   \n",
            "_________________________________________________________________\n",
            "block4_pool (MaxPooling2D)   (None, 14, 14, 512)       0         \n",
            "_________________________________________________________________\n",
            "block5_conv1 (Conv2D)        (None, 14, 14, 512)       2359808   \n",
            "_________________________________________________________________\n",
            "block5_conv2 (Conv2D)        (None, 14, 14, 512)       2359808   \n",
            "_________________________________________________________________\n",
            "block5_conv3 (Conv2D)        (None, 14, 14, 512)       2359808   \n",
            "_________________________________________________________________\n",
            "block5_pool (MaxPooling2D)   (None, 7, 7, 512)         0         \n",
            "_________________________________________________________________\n",
            "flatten (Flatten)            (None, 25088)             0         \n",
            "_________________________________________________________________\n",
            "fc1 (Dense)                  (None, 4096)              102764544 \n",
            "_________________________________________________________________\n",
            "fc2 (Dense)                  (None, 4096)              16781312  \n",
            "_________________________________________________________________\n",
            "predictions (Dense)          (None, 1000)              4097000   \n",
            "=================================================================\n",
            "Total params: 138,357,544\n",
            "Trainable params: 138,357,544\n",
            "Non-trainable params: 0\n",
            "_________________________________________________________________\n"
          ],
          "name": "stdout"
        }
      ]
    },
    {
      "cell_type": "code",
      "metadata": {
        "id": "tl7Twl9zGorA",
        "colab_type": "code",
        "outputId": "b4f24f88-5c34-42e5-e096-3ed857f19a22",
        "colab": {
          "base_uri": "https://localhost:8080/",
          "height": 34
        }
      },
      "source": [
        "newModel.layers.pop()"
      ],
      "execution_count": 11,
      "outputs": [
        {
          "output_type": "execute_result",
          "data": {
            "text/plain": [
              "<keras.layers.core.Dense at 0x7f44b00d7908>"
            ]
          },
          "metadata": {
            "tags": []
          },
          "execution_count": 11
        }
      ]
    },
    {
      "cell_type": "code",
      "metadata": {
        "id": "6lU-RL4pGuOF",
        "colab_type": "code",
        "outputId": "18cf10b6-ea30-4047-cdaf-e2462bd31863",
        "colab": {
          "base_uri": "https://localhost:8080/",
          "height": 920
        }
      },
      "source": [
        "newModel.summary()"
      ],
      "execution_count": 12,
      "outputs": [
        {
          "output_type": "stream",
          "text": [
            "Model: \"sequential_1\"\n",
            "_________________________________________________________________\n",
            "Layer (type)                 Output Shape              Param #   \n",
            "=================================================================\n",
            "block1_conv1 (Conv2D)        (None, 224, 224, 64)      1792      \n",
            "_________________________________________________________________\n",
            "block1_conv2 (Conv2D)        (None, 224, 224, 64)      36928     \n",
            "_________________________________________________________________\n",
            "block1_pool (MaxPooling2D)   (None, 112, 112, 64)      0         \n",
            "_________________________________________________________________\n",
            "block2_conv1 (Conv2D)        (None, 112, 112, 128)     73856     \n",
            "_________________________________________________________________\n",
            "block2_conv2 (Conv2D)        (None, 112, 112, 128)     147584    \n",
            "_________________________________________________________________\n",
            "block2_pool (MaxPooling2D)   (None, 56, 56, 128)       0         \n",
            "_________________________________________________________________\n",
            "block3_conv1 (Conv2D)        (None, 56, 56, 256)       295168    \n",
            "_________________________________________________________________\n",
            "block3_conv2 (Conv2D)        (None, 56, 56, 256)       590080    \n",
            "_________________________________________________________________\n",
            "block3_conv3 (Conv2D)        (None, 56, 56, 256)       590080    \n",
            "_________________________________________________________________\n",
            "block3_pool (MaxPooling2D)   (None, 28, 28, 256)       0         \n",
            "_________________________________________________________________\n",
            "block4_conv1 (Conv2D)        (None, 28, 28, 512)       1180160   \n",
            "_________________________________________________________________\n",
            "block4_conv2 (Conv2D)        (None, 28, 28, 512)       2359808   \n",
            "_________________________________________________________________\n",
            "block4_conv3 (Conv2D)        (None, 28, 28, 512)       2359808   \n",
            "_________________________________________________________________\n",
            "block4_pool (MaxPooling2D)   (None, 14, 14, 512)       0         \n",
            "_________________________________________________________________\n",
            "block5_conv1 (Conv2D)        (None, 14, 14, 512)       2359808   \n",
            "_________________________________________________________________\n",
            "block5_conv2 (Conv2D)        (None, 14, 14, 512)       2359808   \n",
            "_________________________________________________________________\n",
            "block5_conv3 (Conv2D)        (None, 14, 14, 512)       2359808   \n",
            "_________________________________________________________________\n",
            "block5_pool (MaxPooling2D)   (None, 7, 7, 512)         0         \n",
            "_________________________________________________________________\n",
            "flatten (Flatten)            (None, 25088)             0         \n",
            "_________________________________________________________________\n",
            "fc1 (Dense)                  (None, 4096)              102764544 \n",
            "_________________________________________________________________\n",
            "fc2 (Dense)                  (None, 4096)              16781312  \n",
            "_________________________________________________________________\n",
            "predictions (Dense)          (None, 1000)              4097000   \n",
            "=================================================================\n",
            "Total params: 138,357,544\n",
            "Trainable params: 138,357,544\n",
            "Non-trainable params: 0\n",
            "_________________________________________________________________\n"
          ],
          "name": "stdout"
        }
      ]
    },
    {
      "cell_type": "code",
      "metadata": {
        "id": "ZgtMxpj_Gz4n",
        "colab_type": "code",
        "colab": {}
      },
      "source": [
        "for layer in newModel.layers:\n",
        "  layer.trainable = False"
      ],
      "execution_count": 0,
      "outputs": []
    },
    {
      "cell_type": "code",
      "metadata": {
        "id": "7nhFuEu0G8FC",
        "colab_type": "code",
        "colab": {}
      },
      "source": [
        "newModel.add(Dense(2, activation='softmax'))"
      ],
      "execution_count": 0,
      "outputs": []
    },
    {
      "cell_type": "code",
      "metadata": {
        "id": "-Os2H50EHAwX",
        "colab_type": "code",
        "outputId": "7d2e30f7-3de0-423f-f12a-27895b2a691e",
        "colab": {
          "base_uri": "https://localhost:8080/",
          "height": 955
        }
      },
      "source": [
        "newModel.summary()"
      ],
      "execution_count": 15,
      "outputs": [
        {
          "output_type": "stream",
          "text": [
            "Model: \"sequential_1\"\n",
            "_________________________________________________________________\n",
            "Layer (type)                 Output Shape              Param #   \n",
            "=================================================================\n",
            "block1_conv1 (Conv2D)        (None, 224, 224, 64)      1792      \n",
            "_________________________________________________________________\n",
            "block1_conv2 (Conv2D)        (None, 224, 224, 64)      36928     \n",
            "_________________________________________________________________\n",
            "block1_pool (MaxPooling2D)   (None, 112, 112, 64)      0         \n",
            "_________________________________________________________________\n",
            "block2_conv1 (Conv2D)        (None, 112, 112, 128)     73856     \n",
            "_________________________________________________________________\n",
            "block2_conv2 (Conv2D)        (None, 112, 112, 128)     147584    \n",
            "_________________________________________________________________\n",
            "block2_pool (MaxPooling2D)   (None, 56, 56, 128)       0         \n",
            "_________________________________________________________________\n",
            "block3_conv1 (Conv2D)        (None, 56, 56, 256)       295168    \n",
            "_________________________________________________________________\n",
            "block3_conv2 (Conv2D)        (None, 56, 56, 256)       590080    \n",
            "_________________________________________________________________\n",
            "block3_conv3 (Conv2D)        (None, 56, 56, 256)       590080    \n",
            "_________________________________________________________________\n",
            "block3_pool (MaxPooling2D)   (None, 28, 28, 256)       0         \n",
            "_________________________________________________________________\n",
            "block4_conv1 (Conv2D)        (None, 28, 28, 512)       1180160   \n",
            "_________________________________________________________________\n",
            "block4_conv2 (Conv2D)        (None, 28, 28, 512)       2359808   \n",
            "_________________________________________________________________\n",
            "block4_conv3 (Conv2D)        (None, 28, 28, 512)       2359808   \n",
            "_________________________________________________________________\n",
            "block4_pool (MaxPooling2D)   (None, 14, 14, 512)       0         \n",
            "_________________________________________________________________\n",
            "block5_conv1 (Conv2D)        (None, 14, 14, 512)       2359808   \n",
            "_________________________________________________________________\n",
            "block5_conv2 (Conv2D)        (None, 14, 14, 512)       2359808   \n",
            "_________________________________________________________________\n",
            "block5_conv3 (Conv2D)        (None, 14, 14, 512)       2359808   \n",
            "_________________________________________________________________\n",
            "block5_pool (MaxPooling2D)   (None, 7, 7, 512)         0         \n",
            "_________________________________________________________________\n",
            "flatten (Flatten)            (None, 25088)             0         \n",
            "_________________________________________________________________\n",
            "fc1 (Dense)                  (None, 4096)              102764544 \n",
            "_________________________________________________________________\n",
            "fc2 (Dense)                  (None, 4096)              16781312  \n",
            "_________________________________________________________________\n",
            "predictions (Dense)          (None, 1000)              4097000   \n",
            "_________________________________________________________________\n",
            "dense_1 (Dense)              (None, 2)                 2002      \n",
            "=================================================================\n",
            "Total params: 138,359,546\n",
            "Trainable params: 2,002\n",
            "Non-trainable params: 138,357,544\n",
            "_________________________________________________________________\n"
          ],
          "name": "stdout"
        }
      ]
    },
    {
      "cell_type": "code",
      "metadata": {
        "id": "RQ0VafJxHFeW",
        "colab_type": "code",
        "colab": {}
      },
      "source": [
        "#Compiling Model \n",
        "newModel.compile(Adam(lr=.0001), loss = 'categorical_crossentropy', metrics = ['accuracy'])"
      ],
      "execution_count": 0,
      "outputs": []
    },
    {
      "cell_type": "code",
      "metadata": {
        "id": "SnlPn2LxHLcK",
        "colab_type": "code",
        "colab": {}
      },
      "source": [
        "train_path = 'drive/dataset/train'\n",
        "test_path = 'drive/dataset/test'\n",
        "valid_path = 'drive/dataset/valid'"
      ],
      "execution_count": 0,
      "outputs": []
    },
    {
      "cell_type": "code",
      "metadata": {
        "id": "qQroZt5HHZJo",
        "colab_type": "code",
        "outputId": "13dd32f8-94e7-47e1-8960-b43974d52e33",
        "colab": {
          "base_uri": "https://localhost:8080/",
          "height": 69
        }
      },
      "source": [
        "train_batches = ImageDataGenerator().flow_from_directory(train_path, target_size=(224,224), classes=['original', 'spliced'], batch_size=10, shuffle=True)\n",
        "test_batches =  ImageDataGenerator().flow_from_directory(test_path , target_size=(224,224), classes=['original', 'spliced'], batch_size=4)\n",
        "valid_batches = ImageDataGenerator().flow_from_directory(valid_path, target_size=(224,224), classes=['original', 'spliced'], batch_size=10, shuffle=True)\n"
      ],
      "execution_count": 18,
      "outputs": [
        {
          "output_type": "stream",
          "text": [
            "Found 18 images belonging to 2 classes.\n",
            "Found 13 images belonging to 2 classes.\n",
            "Found 11 images belonging to 2 classes.\n"
          ],
          "name": "stdout"
        }
      ]
    },
    {
      "cell_type": "code",
      "metadata": {
        "id": "yANf52cAKK1U",
        "colab_type": "code",
        "outputId": "f261df68-55fd-4517-e26c-8d35d5df3a2b",
        "colab": {
          "base_uri": "https://localhost:8080/",
          "height": 1000
        }
      },
      "source": [
        "\n",
        "\n",
        "newModel.fit_generator(train_batches, steps_per_epoch=182, validation_data=valid_batches, validation_steps=40, epochs=100, callbacks=callbacks_list, verbose=2)\n",
        "\n"
      ],
      "execution_count": 25,
      "outputs": [
        {
          "output_type": "stream",
          "text": [
            "Epoch 1/100\n",
            " - 26s - loss: 0.6865 - accuracy: 0.7363 - val_loss: 0.6968 - val_accuracy: 0.8182\n",
            "Epoch 2/100\n"
          ],
          "name": "stdout"
        },
        {
          "output_type": "stream",
          "text": [
            "/usr/local/lib/python3.6/dist-packages/keras/callbacks/callbacks.py:707: RuntimeWarning: Can save best model only with val_acc available, skipping.\n",
            "  'skipping.' % (self.monitor), RuntimeWarning)\n"
          ],
          "name": "stderr"
        },
        {
          "output_type": "stream",
          "text": [
            " - 11s - loss: 0.6765 - accuracy: 0.8694 - val_loss: 0.6797 - val_accuracy: 0.8182\n",
            "Epoch 3/100\n",
            " - 11s - loss: 0.6666 - accuracy: 0.9408 - val_loss: 0.7059 - val_accuracy: 0.6364\n",
            "Epoch 4/100\n",
            " - 11s - loss: 0.6568 - accuracy: 0.9444 - val_loss: 0.6736 - val_accuracy: 0.6364\n",
            "Epoch 5/100\n",
            " - 11s - loss: 0.6474 - accuracy: 0.9463 - val_loss: 0.7272 - val_accuracy: 0.6364\n",
            "Epoch 6/100\n",
            " - 11s - loss: 0.6384 - accuracy: 1.0000 - val_loss: 0.6719 - val_accuracy: 0.6364\n",
            "Epoch 7/100\n",
            " - 11s - loss: 0.6293 - accuracy: 1.0000 - val_loss: 0.6687 - val_accuracy: 0.5455\n",
            "Epoch 8/100\n",
            " - 11s - loss: 0.6205 - accuracy: 1.0000 - val_loss: 0.6612 - val_accuracy: 0.5455\n",
            "Epoch 9/100\n",
            " - 11s - loss: 0.6116 - accuracy: 1.0000 - val_loss: 0.6514 - val_accuracy: 0.5455\n",
            "Epoch 10/100\n",
            " - 12s - loss: 0.6032 - accuracy: 1.0000 - val_loss: 0.7615 - val_accuracy: 0.5455\n",
            "Epoch 11/100\n",
            " - 11s - loss: 0.5945 - accuracy: 1.0000 - val_loss: 0.6547 - val_accuracy: 0.5455\n",
            "Epoch 12/100\n",
            " - 11s - loss: 0.5862 - accuracy: 1.0000 - val_loss: 0.6401 - val_accuracy: 0.5455\n",
            "Epoch 13/100\n",
            " - 11s - loss: 0.5780 - accuracy: 1.0000 - val_loss: 0.6439 - val_accuracy: 0.5455\n",
            "Epoch 14/100\n",
            " - 11s - loss: 0.5700 - accuracy: 1.0000 - val_loss: 0.7593 - val_accuracy: 0.5455\n",
            "Epoch 15/100\n",
            " - 11s - loss: 0.5620 - accuracy: 1.0000 - val_loss: 0.7136 - val_accuracy: 0.5455\n",
            "Epoch 16/100\n",
            " - 11s - loss: 0.5541 - accuracy: 1.0000 - val_loss: 0.7742 - val_accuracy: 0.5455\n",
            "Epoch 17/100\n",
            " - 11s - loss: 0.5469 - accuracy: 1.0000 - val_loss: 0.6203 - val_accuracy: 0.5455\n",
            "Epoch 18/100\n",
            " - 11s - loss: 0.5391 - accuracy: 1.0000 - val_loss: 0.7912 - val_accuracy: 0.4545\n",
            "Epoch 19/100\n",
            " - 11s - loss: 0.5314 - accuracy: 1.0000 - val_loss: 0.6077 - val_accuracy: 0.4545\n",
            "Epoch 20/100\n",
            " - 11s - loss: 0.5240 - accuracy: 1.0000 - val_loss: 0.5865 - val_accuracy: 0.4545\n",
            "Epoch 21/100\n",
            " - 12s - loss: 0.5171 - accuracy: 1.0000 - val_loss: 0.8150 - val_accuracy: 0.4545\n",
            "Epoch 22/100\n",
            " - 11s - loss: 0.5099 - accuracy: 1.0000 - val_loss: 0.8273 - val_accuracy: 0.4545\n",
            "Epoch 23/100\n",
            " - 11s - loss: 0.5027 - accuracy: 1.0000 - val_loss: 0.7176 - val_accuracy: 0.4545\n",
            "Epoch 24/100\n",
            " - 11s - loss: 0.4956 - accuracy: 1.0000 - val_loss: 0.5485 - val_accuracy: 0.4545\n",
            "Epoch 25/100\n",
            " - 11s - loss: 0.4887 - accuracy: 1.0000 - val_loss: 0.5436 - val_accuracy: 0.4545\n",
            "Epoch 26/100\n",
            " - 11s - loss: 0.4819 - accuracy: 1.0000 - val_loss: 0.7661 - val_accuracy: 0.4545\n",
            "Epoch 27/100\n",
            " - 11s - loss: 0.4749 - accuracy: 1.0000 - val_loss: 0.5359 - val_accuracy: 0.4545\n",
            "Epoch 28/100\n",
            " - 11s - loss: 0.4683 - accuracy: 1.0000 - val_loss: 0.7772 - val_accuracy: 0.4545\n",
            "Epoch 29/100\n",
            " - 11s - loss: 0.4616 - accuracy: 1.0000 - val_loss: 0.5399 - val_accuracy: 0.4545\n",
            "Epoch 30/100\n",
            " - 11s - loss: 0.4550 - accuracy: 1.0000 - val_loss: 0.9671 - val_accuracy: 0.4545\n",
            "Epoch 31/100\n",
            " - 12s - loss: 0.4484 - accuracy: 1.0000 - val_loss: 0.7020 - val_accuracy: 0.4545\n",
            "Epoch 32/100\n",
            " - 11s - loss: 0.4422 - accuracy: 1.0000 - val_loss: 0.4989 - val_accuracy: 0.4545\n",
            "Epoch 33/100\n",
            " - 11s - loss: 0.4358 - accuracy: 1.0000 - val_loss: 0.6975 - val_accuracy: 0.4545\n",
            "Epoch 34/100\n",
            " - 11s - loss: 0.4295 - accuracy: 1.0000 - val_loss: 0.4781 - val_accuracy: 0.4545\n",
            "Epoch 35/100\n",
            " - 11s - loss: 0.4237 - accuracy: 1.0000 - val_loss: 0.4681 - val_accuracy: 0.5455\n",
            "Epoch 36/100\n",
            " - 11s - loss: 0.4175 - accuracy: 1.0000 - val_loss: 0.4612 - val_accuracy: 0.5455\n",
            "Epoch 37/100\n",
            " - 11s - loss: 0.4113 - accuracy: 1.0000 - val_loss: 0.9849 - val_accuracy: 0.5455\n",
            "Epoch 38/100\n",
            " - 11s - loss: 0.4059 - accuracy: 1.0000 - val_loss: 0.9967 - val_accuracy: 0.5455\n",
            "Epoch 39/100\n",
            " - 11s - loss: 0.3995 - accuracy: 1.0000 - val_loss: 1.0080 - val_accuracy: 0.5455\n",
            "Epoch 40/100\n",
            " - 11s - loss: 0.3942 - accuracy: 1.0000 - val_loss: 0.4689 - val_accuracy: 0.5455\n",
            "Epoch 41/100\n",
            " - 11s - loss: 0.3883 - accuracy: 1.0000 - val_loss: 0.4372 - val_accuracy: 0.5455\n",
            "Epoch 42/100\n",
            " - 12s - loss: 0.3827 - accuracy: 1.0000 - val_loss: 0.4231 - val_accuracy: 0.5455\n",
            "Epoch 43/100\n",
            " - 11s - loss: 0.3772 - accuracy: 1.0000 - val_loss: 0.4139 - val_accuracy: 0.5455\n",
            "Epoch 44/100\n",
            " - 11s - loss: 0.3720 - accuracy: 1.0000 - val_loss: 1.0637 - val_accuracy: 0.5455\n",
            "Epoch 45/100\n",
            " - 11s - loss: 0.3664 - accuracy: 1.0000 - val_loss: 0.4110 - val_accuracy: 0.5455\n",
            "Epoch 46/100\n",
            " - 11s - loss: 0.3611 - accuracy: 1.0000 - val_loss: 0.4318 - val_accuracy: 0.5455\n",
            "Epoch 47/100\n",
            " - 11s - loss: 0.3559 - accuracy: 1.0000 - val_loss: 1.1004 - val_accuracy: 0.5455\n",
            "Epoch 48/100\n",
            " - 12s - loss: 0.3504 - accuracy: 1.0000 - val_loss: 1.1128 - val_accuracy: 0.5455\n",
            "Epoch 49/100\n",
            " - 11s - loss: 0.3458 - accuracy: 1.0000 - val_loss: 1.2251 - val_accuracy: 0.5455\n",
            "Epoch 50/100\n",
            " - 11s - loss: 0.3403 - accuracy: 1.0000 - val_loss: 0.6532 - val_accuracy: 0.5455\n",
            "Epoch 51/100\n",
            " - 11s - loss: 0.3354 - accuracy: 1.0000 - val_loss: 0.4026 - val_accuracy: 0.5455\n",
            "Epoch 52/100\n",
            " - 11s - loss: 0.3303 - accuracy: 1.0000 - val_loss: 0.3774 - val_accuracy: 0.5455\n",
            "Epoch 53/100\n",
            " - 12s - loss: 0.3256 - accuracy: 1.0000 - val_loss: 0.6458 - val_accuracy: 0.5455\n",
            "Epoch 54/100\n",
            " - 11s - loss: 0.3206 - accuracy: 1.0000 - val_loss: 0.3574 - val_accuracy: 0.5455\n",
            "Epoch 55/100\n",
            " - 11s - loss: 0.3159 - accuracy: 1.0000 - val_loss: 0.8405 - val_accuracy: 0.5455\n",
            "Epoch 56/100\n",
            " - 11s - loss: 0.3114 - accuracy: 1.0000 - val_loss: 0.9633 - val_accuracy: 0.5455\n",
            "Epoch 57/100\n",
            " - 11s - loss: 0.3068 - accuracy: 1.0000 - val_loss: 0.3705 - val_accuracy: 0.5455\n",
            "Epoch 58/100\n",
            " - 12s - loss: 0.3021 - accuracy: 1.0000 - val_loss: 0.3654 - val_accuracy: 0.5455\n",
            "Epoch 59/100\n",
            " - 11s - loss: 0.2973 - accuracy: 1.0000 - val_loss: 0.3222 - val_accuracy: 0.5455\n",
            "Epoch 60/100\n",
            " - 11s - loss: 0.2932 - accuracy: 1.0000 - val_loss: 0.3149 - val_accuracy: 0.5455\n",
            "Epoch 61/100\n",
            " - 11s - loss: 0.2893 - accuracy: 1.0000 - val_loss: 0.3307 - val_accuracy: 0.5455\n",
            "Epoch 62/100\n",
            " - 11s - loss: 0.2846 - accuracy: 1.0000 - val_loss: 0.3259 - val_accuracy: 0.5455\n",
            "Epoch 63/100\n",
            " - 11s - loss: 0.2802 - accuracy: 1.0000 - val_loss: 0.6215 - val_accuracy: 0.5455\n",
            "Epoch 64/100\n",
            " - 11s - loss: 0.2759 - accuracy: 1.0000 - val_loss: 1.3193 - val_accuracy: 0.5455\n",
            "Epoch 65/100\n",
            " - 11s - loss: 0.2719 - accuracy: 1.0000 - val_loss: 1.0281 - val_accuracy: 0.5455\n",
            "Epoch 66/100\n",
            " - 11s - loss: 0.2679 - accuracy: 1.0000 - val_loss: 1.0359 - val_accuracy: 0.5455\n",
            "Epoch 67/100\n",
            " - 11s - loss: 0.2642 - accuracy: 1.0000 - val_loss: 1.3675 - val_accuracy: 0.5455\n",
            "Epoch 68/100\n",
            " - 11s - loss: 0.2598 - accuracy: 1.0000 - val_loss: 1.0507 - val_accuracy: 0.5455\n",
            "Epoch 69/100\n",
            " - 11s - loss: 0.2558 - accuracy: 1.0000 - val_loss: 1.3870 - val_accuracy: 0.5455\n",
            "Epoch 70/100\n",
            " - 11s - loss: 0.2523 - accuracy: 1.0000 - val_loss: 1.4004 - val_accuracy: 0.5455\n",
            "Epoch 71/100\n",
            " - 11s - loss: 0.2483 - accuracy: 1.0000 - val_loss: 0.6025 - val_accuracy: 0.5455\n",
            "Epoch 72/100\n",
            " - 11s - loss: 0.2447 - accuracy: 1.0000 - val_loss: 1.4284 - val_accuracy: 0.5455\n",
            "Epoch 73/100\n",
            " - 11s - loss: 0.2408 - accuracy: 1.0000 - val_loss: 1.4421 - val_accuracy: 0.5455\n",
            "Epoch 74/100\n",
            " - 11s - loss: 0.2373 - accuracy: 1.0000 - val_loss: 0.2926 - val_accuracy: 0.5455\n",
            "Epoch 75/100\n",
            " - 11s - loss: 0.2336 - accuracy: 1.0000 - val_loss: 1.4699 - val_accuracy: 0.5455\n",
            "Epoch 76/100\n",
            " - 11s - loss: 0.2303 - accuracy: 1.0000 - val_loss: 1.4846 - val_accuracy: 0.5455\n",
            "Epoch 77/100\n",
            " - 11s - loss: 0.2265 - accuracy: 1.0000 - val_loss: 0.9415 - val_accuracy: 0.5455\n",
            "Epoch 78/100\n",
            " - 11s - loss: 0.2231 - accuracy: 1.0000 - val_loss: 1.5196 - val_accuracy: 0.5455\n",
            "Epoch 79/100\n",
            " - 11s - loss: 0.2200 - accuracy: 1.0000 - val_loss: 0.2532 - val_accuracy: 0.5455\n",
            "Epoch 80/100\n",
            " - 11s - loss: 0.2167 - accuracy: 1.0000 - val_loss: 0.2372 - val_accuracy: 0.5455\n",
            "Epoch 81/100\n",
            " - 11s - loss: 0.2132 - accuracy: 1.0000 - val_loss: 1.7218 - val_accuracy: 0.5455\n",
            "Epoch 82/100\n",
            " - 11s - loss: 0.2101 - accuracy: 1.0000 - val_loss: 0.2297 - val_accuracy: 0.5455\n",
            "Epoch 83/100\n",
            " - 11s - loss: 0.2068 - accuracy: 1.0000 - val_loss: 0.2384 - val_accuracy: 0.5455\n",
            "Epoch 84/100\n",
            " - 11s - loss: 0.2036 - accuracy: 1.0000 - val_loss: 1.6039 - val_accuracy: 0.5455\n",
            "Epoch 85/100\n",
            " - 12s - loss: 0.2008 - accuracy: 1.0000 - val_loss: 1.6118 - val_accuracy: 0.5455\n",
            "Epoch 86/100\n",
            " - 11s - loss: 0.1975 - accuracy: 1.0000 - val_loss: 1.8041 - val_accuracy: 0.5455\n",
            "Epoch 87/100\n",
            " - 11s - loss: 0.1944 - accuracy: 1.0000 - val_loss: 1.8206 - val_accuracy: 0.5455\n",
            "Epoch 88/100\n",
            " - 11s - loss: 0.1913 - accuracy: 1.0000 - val_loss: 1.6622 - val_accuracy: 0.5455\n",
            "Epoch 89/100\n",
            " - 11s - loss: 0.1886 - accuracy: 1.0000 - val_loss: 0.9975 - val_accuracy: 0.5455\n",
            "Epoch 90/100\n",
            " - 11s - loss: 0.1858 - accuracy: 1.0000 - val_loss: 0.2335 - val_accuracy: 0.5455\n",
            "Epoch 91/100\n",
            " - 11s - loss: 0.1830 - accuracy: 1.0000 - val_loss: 0.1901 - val_accuracy: 0.5455\n",
            "Epoch 92/100\n",
            " - 11s - loss: 0.1802 - accuracy: 1.0000 - val_loss: 0.5549 - val_accuracy: 0.5455\n",
            "Epoch 93/100\n",
            " - 11s - loss: 0.1772 - accuracy: 1.0000 - val_loss: 1.9209 - val_accuracy: 0.5455\n",
            "Epoch 94/100\n",
            " - 11s - loss: 0.1746 - accuracy: 1.0000 - val_loss: 0.1810 - val_accuracy: 0.5455\n",
            "Epoch 95/100\n",
            " - 11s - loss: 0.1720 - accuracy: 1.0000 - val_loss: 1.0254 - val_accuracy: 0.5455\n",
            "Epoch 96/100\n",
            " - 12s - loss: 0.1693 - accuracy: 1.0000 - val_loss: 0.1751 - val_accuracy: 0.5455\n",
            "Epoch 97/100\n",
            " - 11s - loss: 0.1665 - accuracy: 1.0000 - val_loss: 1.2755 - val_accuracy: 0.5455\n",
            "Epoch 98/100\n",
            " - 11s - loss: 0.1642 - accuracy: 1.0000 - val_loss: 1.8010 - val_accuracy: 0.5455\n",
            "Epoch 99/100\n",
            " - 11s - loss: 0.1614 - accuracy: 1.0000 - val_loss: 0.1660 - val_accuracy: 0.5455\n",
            "Epoch 100/100\n",
            " - 11s - loss: 0.1591 - accuracy: 1.0000 - val_loss: 1.8368 - val_accuracy: 0.5455\n"
          ],
          "name": "stdout"
        },
        {
          "output_type": "execute_result",
          "data": {
            "text/plain": [
              "<keras.callbacks.callbacks.History at 0x7f448a6e2ef0>"
            ]
          },
          "metadata": {
            "tags": []
          },
          "execution_count": 25
        }
      ]
    },
    {
      "cell_type": "code",
      "metadata": {
        "id": "N_t27hT0ZNYy",
        "colab_type": "code",
        "colab": {}
      },
      "source": [
        "def plot_confusion_matrix(cm, classes,\n",
        "                          normalize=False,\n",
        "                          title='Confusion matrix',\n",
        "                          cmap=plt.cm.Blues):\n",
        "    \n",
        "    if normalize:\n",
        "        cm = cm.astype('float') / cm.sum(axis=1)[:, np.newaxis]\n",
        "        print(\"Normalized confusion matrix\")\n",
        "    else:\n",
        "        print('Confusion matrix, without normalization')\n",
        "\n",
        "    print(cm)\n",
        "\n",
        "    plt.imshow(cm, interpolation='nearest', cmap=cmap)\n",
        "    plt.title(title)\n",
        "    plt.colorbar()\n",
        "    tick_marks = np.arange(len(classes))\n",
        "    plt.xticks(tick_marks, classes, rotation=45)\n",
        "    plt.yticks(tick_marks, classes)\n",
        "\n",
        "    fmt = '.2f' if normalize else 'd'\n",
        "    thresh = cm.max() / 2.\n",
        "    for i, j in itertools.product(range(cm.shape[0]), range(cm.shape[1])):\n",
        "        plt.text(j, i, format(cm[i, j], fmt),\n",
        "                 horizontalalignment=\"center\",\n",
        "                 color=\"white\" if cm[i, j] > thresh else \"black\")\n",
        "\n",
        "    plt.tight_layout()\n",
        "    plt.ylabel('True label')\n",
        "    plt.xlabel('Predicted label')"
      ],
      "execution_count": 0,
      "outputs": []
    },
    {
      "cell_type": "code",
      "metadata": {
        "id": "pF7KIYScZ2K9",
        "colab_type": "code",
        "colab": {
          "base_uri": "https://localhost:8080/",
          "height": 955
        },
        "outputId": "a23b340f-d2a4-4b60-97be-59411822c182"
      },
      "source": [
        "newModel.summary()"
      ],
      "execution_count": 27,
      "outputs": [
        {
          "output_type": "stream",
          "text": [
            "Model: \"sequential_1\"\n",
            "_________________________________________________________________\n",
            "Layer (type)                 Output Shape              Param #   \n",
            "=================================================================\n",
            "block1_conv1 (Conv2D)        (None, 224, 224, 64)      1792      \n",
            "_________________________________________________________________\n",
            "block1_conv2 (Conv2D)        (None, 224, 224, 64)      36928     \n",
            "_________________________________________________________________\n",
            "block1_pool (MaxPooling2D)   (None, 112, 112, 64)      0         \n",
            "_________________________________________________________________\n",
            "block2_conv1 (Conv2D)        (None, 112, 112, 128)     73856     \n",
            "_________________________________________________________________\n",
            "block2_conv2 (Conv2D)        (None, 112, 112, 128)     147584    \n",
            "_________________________________________________________________\n",
            "block2_pool (MaxPooling2D)   (None, 56, 56, 128)       0         \n",
            "_________________________________________________________________\n",
            "block3_conv1 (Conv2D)        (None, 56, 56, 256)       295168    \n",
            "_________________________________________________________________\n",
            "block3_conv2 (Conv2D)        (None, 56, 56, 256)       590080    \n",
            "_________________________________________________________________\n",
            "block3_conv3 (Conv2D)        (None, 56, 56, 256)       590080    \n",
            "_________________________________________________________________\n",
            "block3_pool (MaxPooling2D)   (None, 28, 28, 256)       0         \n",
            "_________________________________________________________________\n",
            "block4_conv1 (Conv2D)        (None, 28, 28, 512)       1180160   \n",
            "_________________________________________________________________\n",
            "block4_conv2 (Conv2D)        (None, 28, 28, 512)       2359808   \n",
            "_________________________________________________________________\n",
            "block4_conv3 (Conv2D)        (None, 28, 28, 512)       2359808   \n",
            "_________________________________________________________________\n",
            "block4_pool (MaxPooling2D)   (None, 14, 14, 512)       0         \n",
            "_________________________________________________________________\n",
            "block5_conv1 (Conv2D)        (None, 14, 14, 512)       2359808   \n",
            "_________________________________________________________________\n",
            "block5_conv2 (Conv2D)        (None, 14, 14, 512)       2359808   \n",
            "_________________________________________________________________\n",
            "block5_conv3 (Conv2D)        (None, 14, 14, 512)       2359808   \n",
            "_________________________________________________________________\n",
            "block5_pool (MaxPooling2D)   (None, 7, 7, 512)         0         \n",
            "_________________________________________________________________\n",
            "flatten (Flatten)            (None, 25088)             0         \n",
            "_________________________________________________________________\n",
            "fc1 (Dense)                  (None, 4096)              102764544 \n",
            "_________________________________________________________________\n",
            "fc2 (Dense)                  (None, 4096)              16781312  \n",
            "_________________________________________________________________\n",
            "predictions (Dense)          (None, 1000)              4097000   \n",
            "_________________________________________________________________\n",
            "dense_1 (Dense)              (None, 2)                 2002      \n",
            "=================================================================\n",
            "Total params: 138,359,546\n",
            "Trainable params: 2,002\n",
            "Non-trainable params: 138,357,544\n",
            "_________________________________________________________________\n"
          ],
          "name": "stdout"
        }
      ]
    },
    {
      "cell_type": "code",
      "metadata": {
        "id": "vclVkI9gZ8fM",
        "colab_type": "code",
        "colab": {
          "base_uri": "https://localhost:8080/",
          "height": 34
        },
        "outputId": "79be3986-cd89-42f9-a76f-0a3cda755656"
      },
      "source": [
        "test_imgs, test_labels = next(test_batches)\n",
        "\n",
        "\n",
        "test_labels = test_labels[:,0]\n",
        "\n",
        "test_labels"
      ],
      "execution_count": 28,
      "outputs": [
        {
          "output_type": "execute_result",
          "data": {
            "text/plain": [
              "array([1., 0., 1., 1.], dtype=float32)"
            ]
          },
          "metadata": {
            "tags": []
          },
          "execution_count": 28
        }
      ]
    },
    {
      "cell_type": "code",
      "metadata": {
        "id": "ke4ByEauaGsF",
        "colab_type": "code",
        "colab": {}
      },
      "source": [
        "predections = newModel.predict_generator(test_batches, steps=1, verbose=0)"
      ],
      "execution_count": 0,
      "outputs": []
    },
    {
      "cell_type": "code",
      "metadata": {
        "id": "akAIvr6maOWM",
        "colab_type": "code",
        "colab": {
          "base_uri": "https://localhost:8080/",
          "height": 52
        },
        "outputId": "03568863-942d-4698-a0e5-cdd79433d73e"
      },
      "source": [
        "print (test_labels)\n",
        "print (np.round(predections[:,0]))\n",
        "\n",
        "cn =  confusion_matrix(test_labels, np.round(predections[:,0]))"
      ],
      "execution_count": 30,
      "outputs": [
        {
          "output_type": "stream",
          "text": [
            "[1. 0. 1. 1.]\n",
            "[1. 0. 1. 1.]\n"
          ],
          "name": "stdout"
        }
      ]
    },
    {
      "cell_type": "code",
      "metadata": {
        "id": "An6nZmtmaVe2",
        "colab_type": "code",
        "colab": {
          "base_uri": "https://localhost:8080/",
          "height": 363
        },
        "outputId": "aefc6205-3951-4d7e-f267-49aa5ac24e8b"
      },
      "source": [
        "cn_plot_labels = ['original', 'spliced']\n",
        "\n",
        "\n",
        "plot_confusion_matrix(cn , cn_plot_labels, title='Confusion matrix')"
      ],
      "execution_count": 31,
      "outputs": [
        {
          "output_type": "stream",
          "text": [
            "Confusion matrix, without normalization\n",
            "[[1 0]\n",
            " [0 3]]\n"
          ],
          "name": "stdout"
        },
        {
          "output_type": "display_data",
          "data": {
            "image/png": "[encoded data removed]",
            "text/plain": [
              "<Figure size 432x288 with 2 Axes>"
            ]
          },
          "metadata": {
            "tags": [],
            "needs_background": "light"
          }
        }
      ]
    }
  ]
}